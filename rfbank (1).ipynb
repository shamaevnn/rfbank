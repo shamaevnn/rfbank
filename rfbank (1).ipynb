{
 "cells": [
  {
   "cell_type": "code",
   "execution_count": 2,
   "metadata": {},
   "outputs": [],
   "source": [
    "from collections import Counter\n",
    "from array import *"
   ]
  },
  {
   "cell_type": "code",
   "execution_count": 5,
   "metadata": {
    "collapsed": true
   },
   "outputs": [
    {
     
      "\u001b[1;32m<ipython-input-5-612e4a2a9095>\u001b[0m in \u001b[0;36m<module>\u001b[1;34m()\u001b[0m\n\u001b[0;32m      3\u001b[0m \u001b[0mTRANSACTIONS_R\u001b[0m \u001b[1;33m=\u001b[0m \u001b[0marray\u001b[0m\u001b[1;33m(\u001b[0m\u001b[1;34m'i'\u001b[0m\u001b[1;33m,\u001b[0m\u001b[1;33m[\u001b[0m\u001b[1;33m]\u001b[0m\u001b[1;33m)\u001b[0m  \u001b[1;31m# массив с объемом транзакций в сегменте R\u001b[0m\u001b[1;33m\u001b[0m\u001b[0m\n\u001b[0;32m      4\u001b[0m \u001b[0mTRANSACTIONS_AF\u001b[0m \u001b[1;33m=\u001b[0m \u001b[0marray\u001b[0m\u001b[1;33m(\u001b[0m\u001b[1;34m'i'\u001b[0m\u001b[1;33m,\u001b[0m\u001b[1;33m[\u001b[0m\u001b[1;33m]\u001b[0m\u001b[1;33m)\u001b[0m \u001b[1;31m# массив с объемом транзакций в сегменте AF\u001b[0m\u001b[1;33m\u001b[0m\u001b[0m\n\u001b[1;32m----> 5\u001b[1;33m \u001b[1;32mwith\u001b[0m \u001b[0mopen\u001b[0m\u001b[1;33m(\u001b[0m\u001b[1;34m'/usr/local/data/transactions.txt'\u001b[0m\u001b[1;33m,\u001b[0m \u001b[1;34m'r'\u001b[0m\u001b[1;33m)\u001b[0m \u001b[1;32mas\u001b[0m \u001b[0mf\u001b[0m\u001b[1;33m:\u001b[0m\u001b[1;33m\u001b[0m\u001b[0m\n\u001b[0m\u001b[0;32m      6\u001b[0m     \u001b[1;32mfor\u001b[0m \u001b[0mline\u001b[0m \u001b[1;32min\u001b[0m \u001b[0mf\u001b[0m\u001b[1;33m:\u001b[0m\u001b[1;33m\u001b[0m\u001b[0m\n\u001b[0;32m      7\u001b[0m         \u001b[0m_\u001b[0m\u001b[1;33m,\u001b[0m \u001b[1;33m*\u001b[0m\u001b[0mvalue\u001b[0m \u001b[1;33m=\u001b[0m \u001b[0mline\u001b[0m\u001b[1;33m.\u001b[0m\u001b[0msplit\u001b[0m\u001b[1;33m(\u001b[0m\u001b[1;34m','\u001b[0m\u001b[1;33m)\u001b[0m \u001b[1;31m#отделим первый столбец от остальных\u001b[0m\u001b[1;33m\u001b[0m\u001b[0m\n"
      
     ]
    }
   ],
   "source": [
    "ID_IN_R = []  # массив с ID клиентов в сегменте R\n",
    "ID_IN_AF = [] # массив с ID клиентов в сегменте AF\n",
    "TRANSACTIONS_R = array('i',[])  # массив с объемом транзакций в сегменте R\n",
    "TRANSACTIONS_AF = array('i',[]) # массив с объемом транзакций в сегменте AF\n",
    "with open('/usr/local/data/transactions.txt', 'r') as f:\n",
    "    for line in f:\n",
    "        _, *value = line.split(',') #отделим первый столбец от остальных \n",
    "        value = [line.rstrip() for line in value] #удалим пробелы и знаки переноса\n",
    "        if value[2] == 'R': \n",
    "            ID_IN_R.append(value[0])\n",
    "            TRANSACTIONS_R.append(int(value[1]))\n",
    "        else:\n",
    "            ID_IN_AF.append(value[0])\n",
    "            TRANSACTIONS_AF.append(int(value[1]))"
   ]
  },
  {
   "cell_type": "markdown",
   "metadata": {},
   "source": [
    "# 1. Количество клиентов для каждого из сегментов, совершавших транзакции. "
   ]
  },
  {
   "cell_type": "markdown",
   "metadata": {},
   "source": [
    "Используем Counter, чтобы посчитать частоту каждого элемента в массиве. Выводим длину Counter, т.к. нам нужно количество уникальных клиентов за день (один клиент мог сделать несколько транзакций за день)."
   ]
  },
  {
   "cell_type": "code",
   "execution_count": 246,
   "metadata": {
    "scrolled": true
   },
   "outputs": [
    {
     "name": "stdout",
     "output_type": "stream",
     "text": [
      "2 - количество униакльных клиентов в сегменте AF\n",
      "2 - количество уникальных клиентов в сегменте R\n"
     ]
    }
   ],
   "source": [
    "print(len(Counter(ID_IN_AF)),'- количество униакльных клиентов в сегменте AF')\n",
    "print(len(Counter(ID_IN_R)), '- количество уникальных клиентов в сегменте R')"
   ]
  },
  {
   "cell_type": "markdown",
   "metadata": {},
   "source": [
    "# 2. Средний объем отдельной транзакции в каждом из сегментов."
   ]
  },
  {
   "cell_type": "code",
   "execution_count": 247,
   "metadata": {},
   "outputs": [
    {
     "name": "stdout",
     "output_type": "stream",
     "text": [
      "2486.667 - средний объем транзакции в сегменте R\n",
      "35300.0 - средний объем транзакции в сегменте AF\n"
     ]
    }
   ],
   "source": [
    "print(round(sum(TRANSACTIONS_R)/len(TRANSACTIONS_R),3),'- средний объем транзакции в сегменте R')\n",
    "print(round(sum(TRANSACTIONS_AF)/len(TRANSACTIONS_AF),3),'- средний объем транзакции в сегменте AF')"
   ]
  },
  {
   "cell_type": "markdown",
   "metadata": {},
   "source": [
    "# 3. 90% доверительный интервал для среднего объема отдельной транзакции в каждом из сегментов. "
   ]
  },
  {
   "cell_type": "markdown",
   "metadata": {},
   "source": [
    "Функция $confidence\\_interval$ принимает на вход массив с объемом транзакций, на выходе получаем несмещенную оценку дисперсии - $S_{unbiased}^2$, \n",
    "среднее значение объема транзакций и доверительный интервал для среднего значения объема транзакции - $\\mu$."
   ]
  },
  {
   "cell_type": "markdown",
   "metadata": {},
   "source": [
    "$S_{unbiased}^2 = \\frac{1}{n-1}\\sum\\limits_{i=1}^n(x_i - \\overline{x})$"
   ]
  },
  {
   "cell_type": "markdown",
   "metadata": {},
   "source": [
    "#### Далее считаем, что случайная величина распределена по нормальному закону с неизвестными дисперсиями"
   ]
  },
  {
   "cell_type": "markdown",
   "metadata": {},
   "source": [
    "Т.к. объемы транзакций положительны, то используем одностороннюю критическую область.\n",
    "\n",
    "Доверительный интервал : $\\overline{x} - t_{\\frac{\\alpha}{2},n-1} \\frac{S_{unbiased}}{\\sqrt{n}} < \\mu < \n",
    "                          \\overline{x} + t_{\\frac{\\alpha}{2},n-1} \\frac{S_{unbiased}}{\\sqrt{n}} $, \n",
    "                          \n",
    "где $t_{\\frac{\\alpha}{2},n-1}$ - критическая точка распределения Стьюдента, в нашем случае она равна 1.64 (количество записей много больше 120)."
   ]
  },
  {
   "cell_type": "markdown",
   "metadata": {},
   "source": [
    "http://ok-t.ru/studopedia/baza13/816265056418.files/image282.gif"
   ]
  },
  {
   "cell_type": "code",
   "execution_count": 251,
   "metadata": {},
   "outputs": [],
   "source": [
    "def confidence_interval(transaction_array):\n",
    "    s = 0\n",
    "    average = sum(transaction_array)/len(transaction_array)\n",
    "    for x in transaction_array:\n",
    "        s = s + (x - average)**2\n",
    "    s_unbiased = s/(len(transaction_array)-1)    \n",
    "    return s_unbiased, average, (round(average-1.64*(s_unbiased/len(transaction_array))**(1/2),3),\\\n",
    "                                 round(average+1.64*(s_unbiased/len(transaction_array))**(1/2),3))"
   ]
  },
  {
   "cell_type": "code",
   "execution_count": 252,
   "metadata": {},
   "outputs": [
    {
     "name": "stdout",
     "output_type": "stream",
     "text": [
      "(1066.217, 3907.117) - 90% доверительный интервал для среднего объема отдельной транзакции для сегмента R\n",
      "(-21608.0, 92208.0) - 90% доверительный интервал для среднего объема отдельной транзакции для сегмента AF \n"
     ]
    }
   ],
   "source": [
    "print(confidence_interval(TRANSACTIONS_R)[2],'- 90% доверительный интервал для среднего объема отдельной транзакции для сегмента R')\n",
    "print(confidence_interval(TRANSACTIONS_AF)[2],'- 90% доверительный интервал для среднего объема отдельной транзакции для сегмента AF ')"
   ]
  },
  {
   "cell_type": "markdown",
   "metadata": {},
   "source": [
    "# 4. Проверка гипотез о равенстве средних объемов отдельных транзакций между сегментами при уровне значимости 10%. "
   ]
  },
  {
   "cell_type": "markdown",
   "metadata": {},
   "source": [
    "Имеем: $H_0: \\overline{x} = \\overline{y},\\\\\n",
    "        H_1: \\overline{x} \\ne \\overline{y}$\n",
    "        "
   ]
  },
  {
   "cell_type": "markdown",
   "metadata": {},
   "source": [
    "Т.к. в задании ничего не сказано о дисперсиях, рассмотрим случай с равными дисперсиями."
   ]
  },
  {
   "cell_type": "markdown",
   "metadata": {},
   "source": [
    "http://www.machinelearning.ru/wiki/index.php?title=%D0%9A%D1%80%D0%B8%D1%82%D0%B5%D1%80%D0%B8%D0%B9_%D0%A1%D1%82%D1%8C%D1%8E%D0%B4%D0%B5%D0%BD%D1%82%D0%B0"
   ]
  },
  {
   "cell_type": "markdown",
   "metadata": {},
   "source": [
    "### Неизвестные равные дисперсии"
   ]
  },
  {
   "cell_type": "markdown",
   "metadata": {},
   "source": [
    "$S_{equal}^2 = \\frac{\\left(m-1\\right)S_{AF}^2 + (n-1)S_{R}^2}{m+n-2}$    \n",
    "\n",
    "$T_{equal} = \\frac{\\overline{x}-\\overline{y}}{s_{equal}}\\sqrt{\\frac{mn}{m+n}}$"
   ]
  },
  {
   "cell_type": "markdown",
   "metadata": {},
   "source": [
    "$m,n$ - объемы выборки AF и R соответственно"
   ]
  },
  {
   "cell_type": "markdown",
   "metadata": {},
   "source": [
    "Если $\\left|T_{equal}\\right| > t_{\\alpha/2}$, то принимаем $H_1$; иначе принимаем $H_0$"
   ]
  },
  {
   "cell_type": "code",
   "execution_count": 253,
   "metadata": {},
   "outputs": [],
   "source": [
    "s_2_equal = ((len(TRANSACTIONS_AF) - 1)*confidence_interval(TRANSACTIONS_AF)[0] + \n",
    "       (len(TRANSACTIONS_R) - 1)*confidence_interval(TRANSACTIONS_R)[0])/ \\\n",
    "       (len(TRANSACTIONS_R) + len(TRANSACTIONS_AF) - 2)"
   ]
  },
  {
   "cell_type": "code",
   "execution_count": 254,
   "metadata": {},
   "outputs": [],
   "source": [
    "t_equal = (confidence_interval(TRANSACTIONS_AF)[1] - confidence_interval(TRANSACTIONS_R)[1])/(s_2_equal)**(1/2)* \\\n",
    "    (len(TRANSACTIONS_AF)*len(TRANSACTIONS_R)/(len(TRANSACTIONS_AF) +len(TRANSACTIONS_R)))**(1/2)"
   ]
  },
  {
   "cell_type": "code",
   "execution_count": 256,
   "metadata": {},
   "outputs": [
    {
     "name": "stdout",
     "output_type": "stream",
     "text": [
      "Принимаем нулевую гипотезу\n"
     ]
    }
   ],
   "source": [
    "if abs(t_equal) > 1.64:\n",
    "    print('Принимаем первую гипотезу')\n",
    "else:\n",
    "    print('Принимаем нулевую гипотезу')"
   ]
  }
 ],
 "metadata": {
  "kernelspec": {
   "display_name": "Python 3",
   "language": "python",
   "name": "python3"
  },
  "language_info": {
   "codemirror_mode": {
    "name": "ipython",
    "version": 3
   },
   "file_extension": ".py",
   "mimetype": "text/x-python",
   "name": "python",
   "nbconvert_exporter": "python",
   "pygments_lexer": "ipython3",
   "version": "3.6.5"
  }
 },
 "nbformat": 4,
 "nbformat_minor": 2
}
